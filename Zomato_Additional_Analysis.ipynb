{
 "cells": [
  {
   "cell_type": "markdown",
   "metadata": {},
   "source": [
    "# Additional Zomato Dataset Analysis\n",
    "\n",
    "This notebook contains additional analysis of the Zomato dataset focusing on important business metrics and relationships."
   ]
  },
  {
   "cell_type": "code",
   "execution_count": null,
   "metadata": {},
   "outputs": [],
   "source": [
    "import pandas as pd\n",
    "import numpy as np\n",
    "import seaborn as sns\n",
    "import matplotlib.pyplot as plt\n",
    "import plotly.express as px\n",
    "import plotly.graph_objects as go\n",
    "from scipy import stats"
   ]
  },
  {
   "cell_type": "code",
   "execution_count": null,
   "metadata": {},
   "outputs": [],
   "source": [
    "# Read the dataset\n",
    "df = pd.read_csv('zomato.csv')\n",
    "# Basic data cleaning\n",
    "df.dropna(inplace=True)\n",
    "# Convert rate to numeric\n",
    "df['rate'] = df['rate'].apply(lambda x: float(str(x).split('/')[0]) if isinstance(x, str) else x)\n",
    "# Convert cost to numeric\n",
    "df['approx_cost(for two people)'] = pd.to_numeric(df['approx_cost(for two people)'].str.replace(',',''), errors='coerce')"
   ]
  },
  {
   "cell_type": "markdown",
   "metadata": {},
   "source": [
    "## 1. Cost Analysis by Location and Restaurant Type"
   ]
  },
  {
   "cell_type": "code",
   "execution_count": null,
   "metadata": {},
   "outputs": [],
   "source": [
    "# Average cost by location\n",
    "location_cost = df.groupby('location')['approx_cost(for two people)'].agg(['mean', 'count']).reset_index()\n",
    "location_cost = location_cost.sort_values('mean', ascending=False).head(15)\n",
    "\n",
    "plt.figure(figsize=(15, 8))\n",
    "sns.barplot(data=location_cost, x='location', y='mean')\n",
    "plt.xticks(rotation=45)\n",
    "plt.title('Average Cost for Two by Location (Top 15 Most Expensive Areas)')\n",
    "plt.xlabel('Location')\n",
    "plt.ylabel('Average Cost for Two')\n",
    "plt.show()"
   ]
  },
  {
   "cell_type": "code",
   "execution_count": null,
   "metadata": {},
   "outputs": [],
   "source": [
    "# Cost distribution by restaurant type\n",
    "plt.figure(figsize=(15, 8))\n",
    "sns.boxplot(data=df, x='rest_type', y='approx_cost(for two people)', order=df.groupby('rest_type')['approx_cost(for two people)'].median().sort_values(ascending=False).head(10).index)\n",
    "plt.xticks(rotation=45)\n",
    "plt.title('Cost Distribution by Restaurant Type (Top 10)')\n",
    "plt.xlabel('Restaurant Type')\n",
    "plt.ylabel('Cost for Two')\n",
    "plt.show()"
   ]
  },
  {
   "cell_type": "markdown",
   "metadata": {},
   "source": [
    "## 2. Cuisine Popularity Analysis"
   ]
  },
  {
   "cell_type": "code",
   "execution_count": null,
   "metadata": {},
   "outputs": [],
   "source": [
    "# Split cuisines and get count\n",
    "cuisine_counts = pd.Series([cuisine.strip() for cuisines in df['cuisines'].str.split(',') for cuisine in cuisines]).value_counts()\n",
    "\n",
    "plt.figure(figsize=(15, 8))\n",
    "sns.barplot(x=cuisine_counts.head(15).values, y=cuisine_counts.head(15).index)\n",
    "plt.title('Most Popular Cuisines (Top 15)')\n",
    "plt.xlabel('Number of Restaurants')\n",
    "plt.show()"
   ]
  },
  {
   "cell_type": "code",
   "execution_count": null,
   "metadata": {},
   "outputs": [],
   "source": [
    "# Average rating by cuisine\n",
    "cuisine_ratings = df.explode('cuisines').groupby('cuisines')['rate'].agg(['mean', 'count']).reset_index()\n",
    "cuisine_ratings = cuisine_ratings[cuisine_ratings['count'] > 50].sort_values('mean', ascending=False)\n",
    "\n",
    "plt.figure(figsize=(15, 8))\n",
    "sns.barplot(data=cuisine_ratings.head(15), x='cuisines', y='mean')\n",
    "plt.xticks(rotation=45)\n",
    "plt.title('Average Rating by Cuisine (Top 15, min 50 restaurants)')\n",
    "plt.xlabel('Cuisine')\n",
    "plt.ylabel('Average Rating')\n",
    "plt.show()"
   ]
  },
  {
   "cell_type": "markdown",
   "metadata": {},
   "source": [
    "## 3. Rating Distribution and Correlation Analysis"
   ]
  },
  {
   "cell_type": "code",
   "execution_count": null,
   "metadata": {},
   "outputs": [],
   "source": [
    "# Rating distribution\n",
    "plt.figure(figsize=(12, 6))\n",
    "sns.histplot(data=df, x='rate', bins=30)\n",
    "plt.title('Distribution of Restaurant Ratings')\n",
    "plt.xlabel('Rating')\n",
    "plt.ylabel('Count')\n",
    "plt.show()\n",
    "\n",
    "# Correlation between votes and rating\n",
    "plt.figure(figsize=(10, 6))\n",
    "sns.scatterplot(data=df, x='votes', y='rate')\n",
    "plt.title('Correlation between Votes and Rating')\n",
    "plt.xlabel('Number of Votes')\n",
    "plt.ylabel('Rating')\n",
    "plt.show()"
   ]
  },
  {
   "cell_type": "markdown",
   "metadata": {},
   "source": [
    "## 4. Online Order and Table Booking Impact Analysis"
   ]
  },
  {
   "cell_type": "code",
   "execution_count": null,
   "metadata": {},
   "outputs": [],
   "source": [
    "# Compare ratings for restaurants with/without online ordering\n",
    "plt.figure(figsize=(10, 6))\n",
    "sns.boxplot(data=df, x='online_order', y='rate')\n",
    "plt.title('Rating Distribution by Online Order Availability')\n",
    "plt.show()\n",
    "\n",
    "# Compare ratings for restaurants with/without table booking\n",
    "plt.figure(figsize=(10, 6))\n",
    "sns.boxplot(data=df, x='book_table', y='rate')\n",
    "plt.title('Rating Distribution by Table Booking Availability')\n",
    "plt.show()"
   ]
  },
  {
   "cell_type": "code",
   "execution_count": null,
   "metadata": {},
   "outputs": [],
   "source": [
    "# Statistical test for online ordering impact\n",
    "online_yes = df[df['online_order'] == 'Yes']['rate']\n",
    "online_no = df[df['online_order'] == 'No']['rate']\n",
    "t_stat, p_val = stats.ttest_ind(online_yes, online_no)\n",
    "print(f'T-test results for online ordering impact on ratings:')\n",
    "print(f't-statistic: {t_stat:.4f}')\n",
    "print(f'p-value: {p_val:.4f}')"
   ]
  },
  {
   "cell_type": "markdown",
   "metadata": {},
   "source": [
    "## 5. Location-based Restaurant Distribution"
   ]
  },
  {
   "cell_type": "code",
   "execution_count": null,
   "metadata": {},
   "outputs": [],
   "source": [
    "# Restaurant count by location\n",
    "location_counts = df['location'].value_counts()\n",
    "\n",
    "plt.figure(figsize=(15, 8))\n",
    "sns.barplot(x=location_counts.head(15).values, y=location_counts.head(15).index)\n",
    "plt.title('Number of Restaurants by Location (Top 15)')\n",
    "plt.xlabel('Number of Restaurants')\n",
    "plt.show()"
   ]
  },
  {
   "cell_type": "code",
   "execution_count": null,
   "metadata": {},
   "outputs": [],
   "source": [
    "# Average rating by location\n",
    "location_ratings = df.groupby('location')['rate'].agg(['mean', 'count']).reset_index()\n",
    "location_ratings = location_ratings[location_ratings['count'] > 50].sort_values('mean', ascending=False)\n",
    "\n",
    "plt.figure(figsize=(15, 8))\n",
    "sns.barplot(data=location_ratings.head(15), x='location', y='mean')\n",
    "plt.xticks(rotation=45)\n",
    "plt.title('Average Rating by Location (Top 15, min 50 restaurants)')\n",
    "plt.xlabel('Location')\n",
    "plt.ylabel('Average Rating')\n",
    "plt.show()"
   ]
  }
 ],
 "metadata": {
  "kernelspec": {
   "display_name": "Python 3",
   "language": "python",
   "name": "python3"
  },
  "language_info": {
   "codemirror_mode": {
    "name": "ipython",
    "version": 3
   },
   "file_extension": ".py",
   "mimetype": "text/x-python",
   "name": "python",
   "nbconvert_exporter": "python",
   "pygments_lexer": "ipython3",
   "version": "3.8.0"
  }
 },
 "nbformat": 4,
 "nbformat_minor": 5
}
